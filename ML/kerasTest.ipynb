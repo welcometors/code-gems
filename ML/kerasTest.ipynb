{
 "cells": [
  {
   "cell_type": "code",
   "execution_count": 140,
   "metadata": {},
   "outputs": [],
   "source": [
    "import os\n",
    "import struct\n",
    "import numpy as np\n",
    "import matplotlib.pyplot as plt\n",
    "import seaborn as sns"
   ]
  },
  {
   "cell_type": "code",
   "execution_count": 74,
   "metadata": {},
   "outputs": [
    {
     "name": "stderr",
     "output_type": "stream",
     "text": [
      "Using TensorFlow backend.\n"
     ]
    }
   ],
   "source": [
    "import keras\n",
    "from keras.models import Sequential\n",
    "from keras.layers import Dense, Dropout, Flatten\n",
    "from keras.layers import Conv2D, MaxPooling2D"
   ]
  },
  {
   "cell_type": "code",
   "execution_count": 141,
   "metadata": {},
   "outputs": [],
   "source": [
    "def load_mnist(dataset=\"training\", path=\".\"):\n",
    "    if dataset is \"training\":\n",
    "        fname_img = os.path.join(path, 'train-images.idx3-ubyte')\n",
    "        fname_lbl = os.path.join(path, 'train-labels.idx1-ubyte')\n",
    "    elif dataset is \"testing\":\n",
    "        fname_img = os.path.join(path, 't10k-images.idx3-ubyte')\n",
    "        fname_lbl = os.path.join(path, 't10k-labels.idx1-ubyte')\n",
    "    else:\n",
    "        raise ValueError(\"dataset must be 'testing' or 'training'\")\n",
    "    # Load everything in some numpy arrays\n",
    "    with open(fname_lbl, 'rb') as flbl:\n",
    "        magic, num = struct.unpack(\">II\", flbl.read(8))\n",
    "        lbl = keras.utils.to_categorical(np.fromfile(flbl, dtype=np.int8), 10)\n",
    "\n",
    "    with open(fname_img, 'rb') as fimg:\n",
    "        magic, num, rows, cols = struct.unpack(\">IIII\", fimg.read(16))\n",
    "        #img = np.fromfile(fimg, dtype=np.uint8).reshape(len(lbl), rows, cols).astype('float32') / 255\n",
    "        img = np.fromfile(fimg, dtype=np.uint8).reshape(len(lbl), rows*cols).astype('float32') / 255\n",
    "   \n",
    "    return img, lbl"
   ]
  },
  {
   "cell_type": "code",
   "execution_count": 153,
   "metadata": {},
   "outputs": [],
   "source": [
    "def simple_dnn(batch_size, epochs):\n",
    "    np.random.seed(7)\n",
    "    data_path = os.path.join('.', 'data')\n",
    "    x_train, y_train = load_mnist(path=data_path)\n",
    "    x_test, y_test = load_mnist(dataset='testing', path=data_path)\n",
    "    \n",
    "    model = Sequential()\n",
    "    model.add(Dense(512, activation='relu', input_shape=(784,)))\n",
    "    model.add(Dropout(0.2))\n",
    "    model.add(Dense(512, activation='relu'))\n",
    "    model.add(Dropout(0.5))\n",
    "    model.add(Dense(10, activation='softmax'))\n",
    "\n",
    "    #model.summary()\n",
    "    model.compile(loss=keras.losses.categorical_crossentropy, \n",
    "                  optimizer=keras.optimizers.Adadelta(),\n",
    "                  metrics=['accuracy'])\n",
    "\n",
    "    model.fit(x_train, y_train,\n",
    "              batch_size=batch_size,\n",
    "              epochs=epochs,\n",
    "              verbose=1,\n",
    "              validation_data=(x_test, y_test))\n",
    "    \n",
    "    score = model.evaluate(x_test, y_test, verbose=0)\n",
    "    print('Test loss:', score[0])\n",
    "    print('Test accuracy:', score[1])"
   ]
  },
  {
   "cell_type": "code",
   "execution_count": 154,
   "metadata": {
    "scrolled": true
   },
   "outputs": [
    {
     "name": "stdout",
     "output_type": "stream",
     "text": [
      "Train on 60000 samples, validate on 10000 samples\n",
      "Epoch 1/10\n",
      "60000/60000 [==============================] - 4s - loss: 0.4128 - acc: 0.8790 - val_loss: 0.1831 - val_acc: 0.9447\n",
      "Epoch 2/10\n",
      "60000/60000 [==============================] - 3s - loss: 0.1804 - acc: 0.9469 - val_loss: 0.1273 - val_acc: 0.9615\n",
      "Epoch 3/10\n",
      "60000/60000 [==============================] - 3s - loss: 0.1304 - acc: 0.9607 - val_loss: 0.0956 - val_acc: 0.9701\n",
      "Epoch 4/10\n",
      "60000/60000 [==============================] - 3s - loss: 0.1027 - acc: 0.9691 - val_loss: 0.0840 - val_acc: 0.9733\n",
      "Epoch 5/10\n",
      "60000/60000 [==============================] - 3s - loss: 0.0871 - acc: 0.9740 - val_loss: 0.0766 - val_acc: 0.9750\n",
      "Epoch 6/10\n",
      "60000/60000 [==============================] - 3s - loss: 0.0741 - acc: 0.9775 - val_loss: 0.0689 - val_acc: 0.9780\n",
      "Epoch 7/10\n",
      "60000/60000 [==============================] - 3s - loss: 0.0635 - acc: 0.9809 - val_loss: 0.0673 - val_acc: 0.9784\n",
      "Epoch 8/10\n",
      "60000/60000 [==============================] - 3s - loss: 0.0560 - acc: 0.9832 - val_loss: 0.0678 - val_acc: 0.9794\n",
      "Epoch 9/10\n",
      "60000/60000 [==============================] - 3s - loss: 0.0499 - acc: 0.9850 - val_loss: 0.0620 - val_acc: 0.9811\n",
      "Epoch 10/10\n",
      "60000/60000 [==============================] - 3s - loss: 0.0447 - acc: 0.9865 - val_loss: 0.0623 - val_acc: 0.9810\n",
      "Test loss: 0.0622753282271\n",
      "Test accuracy: 0.981\n"
     ]
    }
   ],
   "source": [
    "simple_dnn(128, 10)"
   ]
  },
  {
   "cell_type": "code",
   "execution_count": 155,
   "metadata": {},
   "outputs": [],
   "source": [
    "def cnn_dnn(batch_size, epochs):\n",
    "    np.random.seed(7)\n",
    "    data_path = os.path.join('.', 'data')\n",
    "    x_train, y_train = load_mnist(path=data_path)\n",
    "    x_test, y_test = load_mnist(dataset='testing', path=data_path)\n",
    "    \n",
    "    x_train = x_train.reshape(x_train.shape[0], 28, 28, 1)\n",
    "    x_test = x_test.reshape(x_test.shape[0], 28, 28, 1)\n",
    "    \n",
    "    model = Sequential()\n",
    "    model.add(Conv2D(32, kernel_size=(5, 5),\n",
    "                     activation='relu',\n",
    "                     input_shape=(28,28,1)))\n",
    "    model.add(MaxPooling2D(pool_size=(2, 2)))\n",
    "    model.add(Dropout(0.2))\n",
    "    model.add(Flatten())\n",
    "    model.add(Dense(128, activation='relu'))\n",
    "    model.add(Dropout(0.2))\n",
    "    model.add(Dense(10, activation='softmax'))\n",
    "\n",
    "    #model.summary()\n",
    "    model.compile(loss='categorical_crossentropy', optimizer='adam',\n",
    "                  metrics=['accuracy'])\n",
    "\n",
    "    model.fit(x_train, y_train,\n",
    "              batch_size=batch_size,\n",
    "              epochs=epochs,\n",
    "              verbose=1,\n",
    "              validation_data=(x_test, y_test))\n",
    "    \n",
    "    score = model.evaluate(x_test, y_test, verbose=0)\n",
    "    print('Test loss:', score[0])\n",
    "    print('Test accuracy:', score[1])"
   ]
  },
  {
   "cell_type": "code",
   "execution_count": 156,
   "metadata": {},
   "outputs": [
    {
     "name": "stdout",
     "output_type": "stream",
     "text": [
      "Train on 60000 samples, validate on 10000 samples\n",
      "Epoch 1/5\n",
      "60000/60000 [==============================] - 7s - loss: 0.2365 - acc: 0.9300 - val_loss: 0.0676 - val_acc: 0.9790\n",
      "Epoch 2/5\n",
      "60000/60000 [==============================] - 6s - loss: 0.0744 - acc: 0.9771 - val_loss: 0.0442 - val_acc: 0.9866\n",
      "Epoch 3/5\n",
      "60000/60000 [==============================] - 6s - loss: 0.0526 - acc: 0.9837 - val_loss: 0.0367 - val_acc: 0.9874\n",
      "Epoch 4/5\n",
      "60000/60000 [==============================] - 6s - loss: 0.0431 - acc: 0.9865 - val_loss: 0.0333 - val_acc: 0.9901\n",
      "Epoch 5/5\n",
      "60000/60000 [==============================] - 6s - loss: 0.0332 - acc: 0.9895 - val_loss: 0.0314 - val_acc: 0.9903\n",
      "Test loss: 0.0313963937878\n",
      "Test accuracy: 0.9903\n"
     ]
    }
   ],
   "source": [
    "cnn_dnn(128, 5)"
   ]
  },
  {
   "cell_type": "code",
   "execution_count": 166,
   "metadata": {},
   "outputs": [],
   "source": [
    "def cnn_deeper(batch_size, epochs):\n",
    "    np.random.seed(7)\n",
    "    data_path = os.path.join('.', 'data')\n",
    "    x_train, y_train = load_mnist(path=data_path)\n",
    "    x_test, y_test = load_mnist(dataset='testing', path=data_path)\n",
    "    \n",
    "    x_train = x_train.reshape(x_train.shape[0], 28, 28, 1)\n",
    "    x_test = x_test.reshape(x_test.shape[0], 28, 28, 1)\n",
    "    \n",
    "    model = Sequential()\n",
    "    model.add(Conv2D(32, kernel_size=(5, 5),\n",
    "                     activation='relu',\n",
    "                     input_shape=(28,28,1)))\n",
    "    model.add(MaxPooling2D(pool_size=(2, 2)))\n",
    "    model.add(Conv2D(64, (3, 3), activation='relu'))\n",
    "    model.add(MaxPooling2D(pool_size=(2, 2)))\n",
    "    model.add(Dropout(0.2))\n",
    "    model.add(Flatten())\n",
    "    model.add(Dense(128, activation='relu'))\n",
    "    model.add(Dropout(0.2))\n",
    "    model.add(Dense(64, activation='relu'))\n",
    "    model.add(Dense(10, activation='softmax'))\n",
    "\n",
    "    #model.summary()\n",
    "    model.compile(loss='categorical_crossentropy', optimizer='adam',\n",
    "                  metrics=['accuracy'])\n",
    "\n",
    "    model.fit(x_train, y_train,\n",
    "              batch_size=batch_size,\n",
    "              epochs=epochs,\n",
    "              verbose=1,\n",
    "              validation_data=(x_test, y_test))\n",
    "    \n",
    "    score = model.evaluate(x_test, y_test, verbose=0)\n",
    "    print('Test loss:', score[0])\n",
    "    print('Test accuracy:', score[1])"
   ]
  },
  {
   "cell_type": "code",
   "execution_count": 167,
   "metadata": {},
   "outputs": [
    {
     "name": "stdout",
     "output_type": "stream",
     "text": [
      "Train on 60000 samples, validate on 10000 samples\n",
      "Epoch 1/5\n",
      "60000/60000 [==============================] - 8s - loss: 0.2541 - acc: 0.9200 - val_loss: 0.0547 - val_acc: 0.9831\n",
      "Epoch 2/5\n",
      "60000/60000 [==============================] - 7s - loss: 0.0691 - acc: 0.9791 - val_loss: 0.0350 - val_acc: 0.9881\n",
      "Epoch 3/5\n",
      "60000/60000 [==============================] - 8s - loss: 0.0518 - acc: 0.9841 - val_loss: 0.0273 - val_acc: 0.9914\n",
      "Epoch 4/5\n",
      "60000/60000 [==============================] - 8s - loss: 0.0400 - acc: 0.9876 - val_loss: 0.0278 - val_acc: 0.9914\n",
      "Epoch 5/5\n",
      "60000/60000 [==============================] - 8s - loss: 0.0330 - acc: 0.9897 - val_loss: 0.0224 - val_acc: 0.9922\n",
      "Test loss: 0.0224061819654\n",
      "Test accuracy: 0.9922\n"
     ]
    }
   ],
   "source": [
    "cnn_deeper(128,5)"
   ]
  },
  {
   "cell_type": "code",
   "execution_count": null,
   "metadata": {},
   "outputs": [],
   "source": []
  }
 ],
 "metadata": {
  "kernelspec": {
   "display_name": "Python 3",
   "language": "python",
   "name": "python3"
  },
  "language_info": {
   "codemirror_mode": {
    "name": "ipython",
    "version": 3
   },
   "file_extension": ".py",
   "mimetype": "text/x-python",
   "name": "python",
   "nbconvert_exporter": "python",
   "pygments_lexer": "ipython3",
   "version": "3.6.2"
  }
 },
 "nbformat": 4,
 "nbformat_minor": 2
}
